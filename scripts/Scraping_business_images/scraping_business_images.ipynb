{
 "cells": [
  {
   "cell_type": "code",
   "execution_count": 12,
   "metadata": {},
   "outputs": [],
   "source": [
    "from selenium import webdriver\n",
    "import time\n",
    "import json\n",
    "import os\n",
    "import pandas as pd\n",
    "import pprint\n",
    "import urllib.request\n",
    "from selenium.webdriver import ActionChains \n",
    "from selenium.webdriver.common.keys import Keys\n",
    "from selenium.webdriver.support.wait import WebDriverWait \n",
    "from selenium.webdriver.support import expected_conditions as EC\n",
    "from selenium.webdriver.common.by import By"
   ]
  },
  {
   "cell_type": "code",
   "execution_count": 17,
   "metadata": {},
   "outputs": [],
   "source": [
    "filename = 'Alaska_grouped_businesses.json'\n",
    "with open('../../Data/Businesses_final/' + filename, 'rb') as f:\n",
    "    data = json.load(f)\n",
    "    try:\n",
    "        img_dir = '../../images/Businesses/' + filename.split('_')[0]\n",
    "        os.mkdir(img_dir)\n",
    "    except FileExistsError:\n",
    "        pass"
   ]
  },
  {
   "cell_type": "code",
   "execution_count": 41,
   "metadata": {},
   "outputs": [
    {
     "ename": "StaleElementReferenceException",
     "evalue": "Message: stale element reference: element is not attached to the page document\n  (Session info: chrome=111.0.5563.64)\nStacktrace:\n0   chromedriver                        0x00000001029f9428 chromedriver + 4899880\n1   chromedriver                        0x0000000102976a23 chromedriver + 4364835\n2   chromedriver                        0x00000001025c0bf6 chromedriver + 474102\n3   chromedriver                        0x00000001025c4c94 chromedriver + 490644\n4   chromedriver                        0x00000001025c4876 chromedriver + 489590\n5   chromedriver                        0x00000001025c58f9 chromedriver + 493817\n6   chromedriver                        0x00000001026468b4 chromedriver + 1022132\n7   chromedriver                        0x000000010262a562 chromedriver + 906594\n8   chromedriver                        0x0000000102645b5b chromedriver + 1018715\n9   chromedriver                        0x000000010262a333 chromedriver + 906035\n10  chromedriver                        0x00000001025f455f chromedriver + 685407\n11  chromedriver                        0x00000001025f5a7e chromedriver + 690814\n12  chromedriver                        0x00000001029c679e chromedriver + 4691870\n13  chromedriver                        0x00000001029cb961 chromedriver + 4712801\n14  chromedriver                        0x00000001029d22ff chromedriver + 4739839\n15  chromedriver                        0x00000001029cc85a chromedriver + 4716634\n16  chromedriver                        0x000000010299efce chromedriver + 4530126\n17  chromedriver                        0x00000001029ec5c8 chromedriver + 4847048\n18  chromedriver                        0x00000001029ec747 chromedriver + 4847431\n19  chromedriver                        0x0000000102a0187f chromedriver + 4933759\n20  libsystem_pthread.dylib             0x00007ff81a241259 _pthread_start + 125\n21  libsystem_pthread.dylib             0x00007ff81a23cc7b thread_start + 15\n",
     "output_type": "error",
     "traceback": [
      "\u001b[0;31m---------------------------------------------------------------------------\u001b[0m",
      "\u001b[0;31mStaleElementReferenceException\u001b[0m            Traceback (most recent call last)",
      "Cell \u001b[0;32mIn[41], line 11\u001b[0m\n\u001b[1;32m      9\u001b[0m driver\u001b[39m.\u001b[39mget(url)\n\u001b[1;32m     10\u001b[0m time\u001b[39m.\u001b[39msleep(\u001b[39m2\u001b[39m)\n\u001b[0;32m---> 11\u001b[0m WebDriverWait(driver, \u001b[39m20\u001b[39;49m)\u001b[39m.\u001b[39;49muntil(EC\u001b[39m.\u001b[39;49melement_to_be_clickable((By\u001b[39m.\u001b[39;49mXPATH, \u001b[39m'\u001b[39;49m\u001b[39m//div[@class=\u001b[39;49m\u001b[39m\"\u001b[39;49m\u001b[39mZKCDEc\u001b[39;49m\u001b[39m\"\u001b[39;49m\u001b[39m]/div/button/img\u001b[39;49m\u001b[39m'\u001b[39;49m)))\n\u001b[1;32m     12\u001b[0m img \u001b[39m=\u001b[39m driver\u001b[39m.\u001b[39mfind_element(\u001b[39m'\u001b[39m\u001b[39mxpath\u001b[39m\u001b[39m'\u001b[39m, \u001b[39m'\u001b[39m\u001b[39m//div[@class=\u001b[39m\u001b[39m\"\u001b[39m\u001b[39mZKCDEc\u001b[39m\u001b[39m\"\u001b[39m\u001b[39m]/div/button/img\u001b[39m\u001b[39m'\u001b[39m)  \n\u001b[1;32m     13\u001b[0m \u001b[39m# action.move_to_element(img).context_click().send_keys('s').perform()\u001b[39;00m\n",
      "File \u001b[0;32m~/opt/anaconda3/envs/iste610/lib/python3.11/site-packages/selenium/webdriver/support/wait.py:86\u001b[0m, in \u001b[0;36mWebDriverWait.until\u001b[0;34m(self, method, message)\u001b[0m\n\u001b[1;32m     84\u001b[0m \u001b[39mwhile\u001b[39;00m \u001b[39mTrue\u001b[39;00m:\n\u001b[1;32m     85\u001b[0m     \u001b[39mtry\u001b[39;00m:\n\u001b[0;32m---> 86\u001b[0m         value \u001b[39m=\u001b[39m method(\u001b[39mself\u001b[39;49m\u001b[39m.\u001b[39;49m_driver)\n\u001b[1;32m     87\u001b[0m         \u001b[39mif\u001b[39;00m value:\n\u001b[1;32m     88\u001b[0m             \u001b[39mreturn\u001b[39;00m value\n",
      "File \u001b[0;32m~/opt/anaconda3/envs/iste610/lib/python3.11/site-packages/selenium/webdriver/support/expected_conditions.py:335\u001b[0m, in \u001b[0;36melement_to_be_clickable.<locals>._predicate\u001b[0;34m(driver)\u001b[0m\n\u001b[1;32m    333\u001b[0m \u001b[39mif\u001b[39;00m \u001b[39mnot\u001b[39;00m \u001b[39misinstance\u001b[39m(target, WebElement):  \u001b[39m# if given locator instead of WebElement\u001b[39;00m\n\u001b[1;32m    334\u001b[0m     target \u001b[39m=\u001b[39m driver\u001b[39m.\u001b[39mfind_element(\u001b[39m*\u001b[39mtarget)  \u001b[39m# grab element at locator\u001b[39;00m\n\u001b[0;32m--> 335\u001b[0m target \u001b[39m=\u001b[39m visibility_of(target)(driver)\n\u001b[1;32m    336\u001b[0m \u001b[39mif\u001b[39;00m target \u001b[39mand\u001b[39;00m target\u001b[39m.\u001b[39mis_enabled():\n\u001b[1;32m    337\u001b[0m     \u001b[39mreturn\u001b[39;00m target\n",
      "File \u001b[0;32m~/opt/anaconda3/envs/iste610/lib/python3.11/site-packages/selenium/webdriver/support/expected_conditions.py:156\u001b[0m, in \u001b[0;36mvisibility_of.<locals>._predicate\u001b[0;34m(_)\u001b[0m\n\u001b[1;32m    155\u001b[0m \u001b[39mdef\u001b[39;00m \u001b[39m_predicate\u001b[39m(_):\n\u001b[0;32m--> 156\u001b[0m     \u001b[39mreturn\u001b[39;00m _element_if_visible(element)\n",
      "File \u001b[0;32m~/opt/anaconda3/envs/iste610/lib/python3.11/site-packages/selenium/webdriver/support/expected_conditions.py:162\u001b[0m, in \u001b[0;36m_element_if_visible\u001b[0;34m(element, visibility)\u001b[0m\n\u001b[1;32m    161\u001b[0m \u001b[39mdef\u001b[39;00m \u001b[39m_element_if_visible\u001b[39m(element, visibility\u001b[39m=\u001b[39m\u001b[39mTrue\u001b[39;00m):\n\u001b[0;32m--> 162\u001b[0m     \u001b[39mreturn\u001b[39;00m element \u001b[39mif\u001b[39;00m element\u001b[39m.\u001b[39;49mis_displayed() \u001b[39m==\u001b[39m visibility \u001b[39melse\u001b[39;00m \u001b[39mFalse\u001b[39;00m\n",
      "File \u001b[0;32m~/opt/anaconda3/envs/iste610/lib/python3.11/site-packages/selenium/webdriver/remote/webelement.py:260\u001b[0m, in \u001b[0;36mWebElement.is_displayed\u001b[0;34m(self)\u001b[0m\n\u001b[1;32m    258\u001b[0m \u001b[39mif\u001b[39;00m isDisplayed_js \u001b[39mis\u001b[39;00m \u001b[39mNone\u001b[39;00m:\n\u001b[1;32m    259\u001b[0m     _load_js()\n\u001b[0;32m--> 260\u001b[0m \u001b[39mreturn\u001b[39;00m \u001b[39mself\u001b[39;49m\u001b[39m.\u001b[39;49mparent\u001b[39m.\u001b[39;49mexecute_script(\u001b[39mf\u001b[39;49m\u001b[39m\"\u001b[39;49m\u001b[39m/* isDisplayed */return (\u001b[39;49m\u001b[39m{\u001b[39;49;00misDisplayed_js\u001b[39m}\u001b[39;49;00m\u001b[39m).apply(null, arguments);\u001b[39;49m\u001b[39m\"\u001b[39;49m, \u001b[39mself\u001b[39;49m)\n",
      "File \u001b[0;32m~/opt/anaconda3/envs/iste610/lib/python3.11/site-packages/selenium/webdriver/remote/webdriver.py:500\u001b[0m, in \u001b[0;36mWebDriver.execute_script\u001b[0;34m(self, script, *args)\u001b[0m\n\u001b[1;32m    497\u001b[0m converted_args \u001b[39m=\u001b[39m \u001b[39mlist\u001b[39m(args)\n\u001b[1;32m    498\u001b[0m command \u001b[39m=\u001b[39m Command\u001b[39m.\u001b[39mW3C_EXECUTE_SCRIPT\n\u001b[0;32m--> 500\u001b[0m \u001b[39mreturn\u001b[39;00m \u001b[39mself\u001b[39;49m\u001b[39m.\u001b[39;49mexecute(command, {\u001b[39m\"\u001b[39;49m\u001b[39mscript\u001b[39;49m\u001b[39m\"\u001b[39;49m: script, \u001b[39m\"\u001b[39;49m\u001b[39margs\u001b[39;49m\u001b[39m\"\u001b[39;49m: converted_args})[\u001b[39m\"\u001b[39m\u001b[39mvalue\u001b[39m\u001b[39m\"\u001b[39m]\n",
      "File \u001b[0;32m~/opt/anaconda3/envs/iste610/lib/python3.11/site-packages/selenium/webdriver/remote/webdriver.py:440\u001b[0m, in \u001b[0;36mWebDriver.execute\u001b[0;34m(self, driver_command, params)\u001b[0m\n\u001b[1;32m    438\u001b[0m response \u001b[39m=\u001b[39m \u001b[39mself\u001b[39m\u001b[39m.\u001b[39mcommand_executor\u001b[39m.\u001b[39mexecute(driver_command, params)\n\u001b[1;32m    439\u001b[0m \u001b[39mif\u001b[39;00m response:\n\u001b[0;32m--> 440\u001b[0m     \u001b[39mself\u001b[39;49m\u001b[39m.\u001b[39;49merror_handler\u001b[39m.\u001b[39;49mcheck_response(response)\n\u001b[1;32m    441\u001b[0m     response[\u001b[39m\"\u001b[39m\u001b[39mvalue\u001b[39m\u001b[39m\"\u001b[39m] \u001b[39m=\u001b[39m \u001b[39mself\u001b[39m\u001b[39m.\u001b[39m_unwrap_value(response\u001b[39m.\u001b[39mget(\u001b[39m\"\u001b[39m\u001b[39mvalue\u001b[39m\u001b[39m\"\u001b[39m, \u001b[39mNone\u001b[39;00m))\n\u001b[1;32m    442\u001b[0m     \u001b[39mreturn\u001b[39;00m response\n",
      "File \u001b[0;32m~/opt/anaconda3/envs/iste610/lib/python3.11/site-packages/selenium/webdriver/remote/errorhandler.py:245\u001b[0m, in \u001b[0;36mErrorHandler.check_response\u001b[0;34m(self, response)\u001b[0m\n\u001b[1;32m    243\u001b[0m         alert_text \u001b[39m=\u001b[39m value[\u001b[39m\"\u001b[39m\u001b[39malert\u001b[39m\u001b[39m\"\u001b[39m]\u001b[39m.\u001b[39mget(\u001b[39m\"\u001b[39m\u001b[39mtext\u001b[39m\u001b[39m\"\u001b[39m)\n\u001b[1;32m    244\u001b[0m     \u001b[39mraise\u001b[39;00m exception_class(message, screen, stacktrace, alert_text)  \u001b[39m# type: ignore[call-arg]  # mypy is not smart enough here\u001b[39;00m\n\u001b[0;32m--> 245\u001b[0m \u001b[39mraise\u001b[39;00m exception_class(message, screen, stacktrace)\n",
      "\u001b[0;31mStaleElementReferenceException\u001b[0m: Message: stale element reference: element is not attached to the page document\n  (Session info: chrome=111.0.5563.64)\nStacktrace:\n0   chromedriver                        0x00000001029f9428 chromedriver + 4899880\n1   chromedriver                        0x0000000102976a23 chromedriver + 4364835\n2   chromedriver                        0x00000001025c0bf6 chromedriver + 474102\n3   chromedriver                        0x00000001025c4c94 chromedriver + 490644\n4   chromedriver                        0x00000001025c4876 chromedriver + 489590\n5   chromedriver                        0x00000001025c58f9 chromedriver + 493817\n6   chromedriver                        0x00000001026468b4 chromedriver + 1022132\n7   chromedriver                        0x000000010262a562 chromedriver + 906594\n8   chromedriver                        0x0000000102645b5b chromedriver + 1018715\n9   chromedriver                        0x000000010262a333 chromedriver + 906035\n10  chromedriver                        0x00000001025f455f chromedriver + 685407\n11  chromedriver                        0x00000001025f5a7e chromedriver + 690814\n12  chromedriver                        0x00000001029c679e chromedriver + 4691870\n13  chromedriver                        0x00000001029cb961 chromedriver + 4712801\n14  chromedriver                        0x00000001029d22ff chromedriver + 4739839\n15  chromedriver                        0x00000001029cc85a chromedriver + 4716634\n16  chromedriver                        0x000000010299efce chromedriver + 4530126\n17  chromedriver                        0x00000001029ec5c8 chromedriver + 4847048\n18  chromedriver                        0x00000001029ec747 chromedriver + 4847431\n19  chromedriver                        0x0000000102a0187f chromedriver + 4933759\n20  libsystem_pthread.dylib             0x00007ff81a241259 _pthread_start + 125\n21  libsystem_pthread.dylib             0x00007ff81a23cc7b thread_start + 15\n"
     ]
    }
   ],
   "source": [
    "chromeOptions = webdriver.ChromeOptions()\n",
    "prefs = {\"download.default_directory\" : img_dir}\n",
    "chromeOptions.add_experimental_option(\"prefs\",prefs)\n",
    "driver = webdriver.Chrome('chromedriver')\n",
    "action = ActionChains(driver)\n",
    "for business in data:\n",
    "    business_id = business['business_id']\n",
    "    url = business['url']\n",
    "    driver.get(url)\n",
    "    time.sleep(2)\n",
    "    WebDriverWait(driver, 20).until(EC.element_to_be_clickable((By.XPATH, '//div[@class=\"ZKCDEc\"]/div/button/img')))\n",
    "    img = driver.find_element('xpath', '//div[@class=\"ZKCDEc\"]/div/button/img')  \n",
    "    # action.move_to_element(img).context_click().send_keys('s').perform()\n",
    "    src = img.get_attribute('src')\n",
    "    img_name = img_dir + '/' + business_id + '.jpeg'\n",
    "    # if not os.path.exists(img_name):\n",
    "    #     urllib.request.urlretrieve(src, img_name)\n",
    "    #     time.sleep(5)\n",
    "driver.quit()"
   ]
  },
  {
   "cell_type": "code",
   "execution_count": null,
   "metadata": {},
   "outputs": [],
   "source": []
  }
 ],
 "metadata": {
  "kernelspec": {
   "display_name": "iste610",
   "language": "python",
   "name": "python3"
  },
  "language_info": {
   "codemirror_mode": {
    "name": "ipython",
    "version": 3
   },
   "file_extension": ".py",
   "mimetype": "text/x-python",
   "name": "python",
   "nbconvert_exporter": "python",
   "pygments_lexer": "ipython3",
   "version": "3.11.0"
  },
  "orig_nbformat": 4
 },
 "nbformat": 4,
 "nbformat_minor": 2
}
