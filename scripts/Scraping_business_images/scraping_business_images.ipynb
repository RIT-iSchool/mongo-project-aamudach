{
 "cells": [
  {
   "cell_type": "code",
   "execution_count": 1,
   "metadata": {},
   "outputs": [],
   "source": [
    "from selenium import webdriver\n",
    "import time\n",
    "import json\n",
    "import os\n",
    "import pandas as pd\n",
    "import pprint\n",
    "import urllib.request\n",
    "from selenium.webdriver import ActionChains\n",
    "from selenium.webdriver.support.wait import WebDriverWait \n",
    "from selenium.webdriver.support import expected_conditions as EC\n",
    "from selenium.webdriver.common.by import By\n",
    "import glob\n",
    "import zipfile"
   ]
  },
  {
   "cell_type": "code",
   "execution_count": 21,
   "metadata": {},
   "outputs": [
    {
     "name": "stdout",
     "output_type": "stream",
     "text": [
      "Unzipping: ../../Data/Businesses_final.zip\n"
     ]
    }
   ],
   "source": [
    "zip_files = glob.glob('../../Data/*.zip')\n",
    "for file in zip_files:\n",
    "    print('Unzipping:',file)\n",
    "    with zipfile.ZipFile(file, 'r') as zip_ref:\n",
    "        zip_ref.extractall('../../Data/')"
   ]
  },
  {
   "cell_type": "code",
   "execution_count": 2,
   "metadata": {},
   "outputs": [
    {
     "ename": "KeyboardInterrupt",
     "evalue": "",
     "output_type": "error",
     "traceback": [
      "\u001b[0;31m---------------------------------------------------------------------------\u001b[0m",
      "\u001b[0;31mKeyboardInterrupt\u001b[0m                         Traceback (most recent call last)",
      "Cell \u001b[0;32mIn[2], line 20\u001b[0m\n\u001b[1;32m     18\u001b[0m driver\u001b[39m.\u001b[39mget(url)\n\u001b[1;32m     19\u001b[0m driver\u001b[39m.\u001b[39mexecute_script(\u001b[39m\"\u001b[39m\u001b[39mwindow.scrollTo(0, 0);\u001b[39m\u001b[39m\"\u001b[39m)\n\u001b[0;32m---> 20\u001b[0m time\u001b[39m.\u001b[39msleep(\u001b[39m2\u001b[39m)\n\u001b[1;32m     21\u001b[0m \u001b[39mtry\u001b[39;00m:\n\u001b[1;32m     22\u001b[0m     WebDriverWait(driver, \u001b[39m120\u001b[39m)\u001b[39m.\u001b[39muntil(EC\u001b[39m.\u001b[39melement_to_be_clickable((By\u001b[39m.\u001b[39mXPATH, \u001b[39m'\u001b[39m\u001b[39m//*[@id=\u001b[39m\u001b[39m\"\u001b[39m\u001b[39mQA0Szd\u001b[39m\u001b[39m\"\u001b[39m\u001b[39m]/div/div/div[1]/div[2]/div/div[1]/div/div/div[1]/div[1]/button/img\u001b[39m\u001b[39m'\u001b[39m)))\n",
      "\u001b[0;31mKeyboardInterrupt\u001b[0m: "
     ]
    }
   ],
   "source": [
    "chromeOptions = webdriver.ChromeOptions()\n",
    "# prefs = {\"download.default_directory\" : img_dir}\n",
    "# chromeOptions.add_experimental_option(\"prefs\",prefs)\n",
    "driver = webdriver.Chrome('chromedriver')\n",
    "driver.set_page_load_timeout(120)\n",
    "action = ActionChains(driver)\n",
    "for filename in sorted(os.listdir('../../Data/Businesses_final/'))[:1]:\n",
    "    with open('../../Data/Businesses_final/' + filename, 'rb') as f:\n",
    "        data = json.load(f)\n",
    "        try:\n",
    "            img_dir = '../../images/Businesses/' + filename.split('_')[0]\n",
    "            os.mkdir(img_dir)\n",
    "        except FileExistsError:\n",
    "            pass\n",
    "    for business in data[:100]:\n",
    "        business_id = business['business_id']\n",
    "        url = business['url']\n",
    "        driver.get(url)\n",
    "        driver.execute_script(\"window.scrollTo(0, 0);\")\n",
    "        time.sleep(2)\n",
    "        try:\n",
    "            WebDriverWait(driver, 120).until(EC.element_to_be_clickable((By.XPATH, '//*[@id=\"QA0Szd\"]/div/div/div[1]/div[2]/div/div[1]/div/div/div[1]/div[1]/button/img')))\n",
    "        except:\n",
    "            continue\n",
    "        img = driver.find_element('xpath', '//*[@id=\"QA0Szd\"]/div/div/div[1]/div[2]/div/div[1]/div/div/div[1]/div[1]/button/img')  \n",
    "        # action.move_to_element(img).context_click().send_keys('s').perform()\n",
    "        src = img.get_attribute('src')\n",
    "        img_name = img_dir + '/' + business_id + '.jpeg'\n",
    "        if not os.path.exists(img_name):\n",
    "            urllib.request.urlretrieve(src, img_name)\n",
    "            time.sleep(5)\n",
    "driver.quit()"
   ]
  },
  {
   "cell_type": "code",
   "execution_count": null,
   "metadata": {},
   "outputs": [],
   "source": []
  }
 ],
 "metadata": {
  "kernelspec": {
   "display_name": "iste610",
   "language": "python",
   "name": "python3"
  },
  "language_info": {
   "codemirror_mode": {
    "name": "ipython",
    "version": 3
   },
   "file_extension": ".py",
   "mimetype": "text/x-python",
   "name": "python",
   "nbconvert_exporter": "python",
   "pygments_lexer": "ipython3",
   "version": "3.11.0"
  },
  "orig_nbformat": 4
 },
 "nbformat": 4,
 "nbformat_minor": 2
}
